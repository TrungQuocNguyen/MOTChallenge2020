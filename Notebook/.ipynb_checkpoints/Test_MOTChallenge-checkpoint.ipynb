{
 "cells": [
  {
   "cell_type": "code",
   "execution_count": null,
   "metadata": {},
   "outputs": [],
   "source": [
    "import torch"
   ]
  },
  {
   "cell_type": "code",
   "execution_count": null,
   "metadata": {},
   "outputs": [],
   "source": [
    "torch.__version__"
   ]
  },
  {
   "cell_type": "code",
   "execution_count": null,
   "metadata": {},
   "outputs": [],
   "source": [
    "import os\n",
    "import sys\n",
    "import matplotlib.pyplot as plt\n",
    "import numpy as np\n",
    "import time\n",
    "from tqdm.autonotebook import tqdm\n",
    "\n",
    "import torch\n",
    "from torch.utils.data import DataLoader"
   ]
  },
  {
   "cell_type": "code",
   "execution_count": null,
   "metadata": {},
   "outputs": [],
   "source": [
    "root_dir1 = \"/home/trung/MOTChallenge2020\""
   ]
  },
  {
   "cell_type": "code",
   "execution_count": null,
   "metadata": {},
   "outputs": [],
   "source": [
    "sys.path.append(os.path.join(root_dir1, 'src'))"
   ]
  },
  {
   "cell_type": "code",
   "execution_count": null,
   "metadata": {},
   "outputs": [],
   "source": [
    "from tracker.data_track import MOT16Sequences\n",
    "from tracker.data_obj_detect import MOT16ObjDetect\n",
    "from tracker.object_detector import FRCNN_FPN\n",
    "from tracker.tracker import Tracker\n",
    "from tracker.utils import (plot_sequence, evaluate_mot_accums, get_mot_accum,\n",
    "                           evaluate_obj_detect, obj_detect_transforms)\n",
    "import motmetrics as mm\n",
    "mm.lap.default_solver = 'lap'"
   ]
  },
  {
   "cell_type": "code",
   "execution_count": null,
   "metadata": {},
   "outputs": [],
   "source": [
    "seq_name = 'MOT16-02'\n",
    "root_dir = '/home/trung/MOTChallenge2020_data'\n",
    "data_dir = os.path.join(root_dir, 'data/MOT16')\n",
    "sequences = MOT16Sequences(seq_name, data_dir)\n"
   ]
  },
  {
   "cell_type": "code",
   "execution_count": null,
   "metadata": {},
   "outputs": [],
   "source": [
    "obj_detect_model_file = os.path.join(root_dir, 'models/faster_rcnn_fpn.model')\n",
    "obj_detect_nms_thresh = 0.3\n",
    "\n",
    "device = torch.device('cuda') if torch.cuda.is_available() else torch.device('cpu')\n",
    "print(device)\n",
    "# object detector\n",
    "obj_detect = FRCNN_FPN(num_classes=2, nms_thresh=obj_detect_nms_thresh)\n",
    "obj_detect_state_dict = torch.load(obj_detect_model_file,\n",
    "                                   map_location=lambda storage, loc: storage)\n",
    "obj_detect.load_state_dict(obj_detect_state_dict)\n",
    "obj_detect.eval()\n",
    "obj_detect.to(device)"
   ]
  },
  {
   "cell_type": "code",
   "execution_count": null,
   "metadata": {},
   "outputs": [],
   "source": [
    "from torchvision.ops import roi_align\n",
    "for seq in sequences:# Each seq is a MOT16Sequence object\n",
    "\n",
    "    print(f\"Tracking: {seq}\")\n",
    "    inc = 0\n",
    "    \n",
    "\n",
    "    data_loader = DataLoader(seq, batch_size=5, shuffle=False) #NOTE: shuffle  = False. This is order sequence !!!!\n",
    "    print(\"Done loading data\")\n",
    "    for frame in tqdm(data_loader):\n",
    "        list_boxes, list_scores = obj_detect.detect(frame['img'])\n",
    "        inc = inc+1\n",
    "        if inc==5: \n",
    "            break\n",
    "    detections = roi_align(frame['img'], list_boxes, (128,64))"
   ]
  },
  {
   "cell_type": "code",
   "execution_count": null,
   "metadata": {},
   "outputs": [],
   "source": [
    "from tracker.feature_encoder import NodeEncoder"
   ]
  },
  {
   "cell_type": "code",
   "execution_count": null,
   "metadata": {},
   "outputs": [],
   "source": [
    "node_encoder = NodeEncoder()\n",
    "result = node_encoder(detections)"
   ]
  },
  {
   "cell_type": "code",
   "execution_count": null,
   "metadata": {},
   "outputs": [],
   "source": [
    "print(batch_images.size())\n",
    "print(detections.size())\n",
    "print(result.size())"
   ]
  },
  {
   "cell_type": "code",
   "execution_count": null,
   "metadata": {},
   "outputs": [],
   "source": []
  },
  {
   "cell_type": "code",
   "execution_count": null,
   "metadata": {},
   "outputs": [],
   "source": [
    "from torchvision.ops import roi_align\n",
    "for seq in sequences:# Each seq is a MOT16Sequence object\n",
    "\n",
    "    print(f\"Tracking: {seq}\")\n",
    "    list_boxes = []\n",
    "    list_img = []\n",
    "    inc = 0\n",
    "    \n",
    "\n",
    "    data_loader = DataLoader(seq, batch_size=1, shuffle=False) #NOTE: shuffle  = False. This is order sequence !!!!\n",
    "    print(\"Done loading data\")\n",
    "    for frame in tqdm(data_loader):\n",
    "        boxes, scores = obj_detect.detect(frame['img'])\n",
    "        list_boxes.append(boxes)\n",
    "        list_img.append(torch.squeeze(frame['img']))\n",
    "        inc = inc+1\n",
    "        if inc==5: \n",
    "            break\n",
    "    batch_images = torch.stack(list_img)\n",
    "    detections = roi_align(batch_images, list_boxes, (128,64))\n",
    " \n",
    "        \n",
    "        "
   ]
  }
 ],
 "metadata": {
  "kernelspec": {
   "display_name": "motchallenge",
   "language": "python",
   "name": "motchallenge"
  },
  "language_info": {
   "codemirror_mode": {
    "name": "ipython",
    "version": 3
   },
   "file_extension": ".py",
   "mimetype": "text/x-python",
   "name": "python",
   "nbconvert_exporter": "python",
   "pygments_lexer": "ipython3",
   "version": "3.7.7"
  }
 },
 "nbformat": 4,
 "nbformat_minor": 4
}
